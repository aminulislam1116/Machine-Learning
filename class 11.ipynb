{
 "cells": [
  {
   "cell_type": "code",
   "execution_count": null,
   "id": "a8a82501",
   "metadata": {},
   "outputs": [],
   "source": [
    "import pandas as pd\n",
    "df=pd.read_csv('weight-height.csv')\n",
    "df.head()"
   ]
  },
  {
   "cell_type": "code",
   "execution_count": null,
   "id": "03038328",
   "metadata": {},
   "outputs": [],
   "source": [
    "from sklearn.preprocessing import LabelEncoder"
   ]
  },
  {
   "cell_type": "code",
   "execution_count": null,
   "id": "8992fc9b",
   "metadata": {},
   "outputs": [],
   "source": [
    "le=LabelEncoder()"
   ]
  },
  {
   "cell_type": "code",
   "execution_count": null,
   "id": "1570bcad",
   "metadata": {},
   "outputs": [],
   "source": [
    "df.Gender=le.fit_transform(df.Gender)"
   ]
  },
  {
   "cell_type": "code",
   "execution_count": null,
   "id": "1bb367ab",
   "metadata": {},
   "outputs": [],
   "source": [
    "df.head()"
   ]
  },
  {
   "cell_type": "markdown",
   "id": "a17b6c53",
   "metadata": {},
   "source": [
    "# Training model"
   ]
  },
  {
   "cell_type": "code",
   "execution_count": null,
   "id": "3fb6baff",
   "metadata": {},
   "outputs": [],
   "source": [
    "x=df.drop('Weight', axis=1)"
   ]
  },
  {
   "cell_type": "code",
   "execution_count": null,
   "id": "100fd186",
   "metadata": {},
   "outputs": [],
   "source": [
    "x"
   ]
  },
  {
   "cell_type": "code",
   "execution_count": null,
   "id": "fce0db98",
   "metadata": {},
   "outputs": [],
   "source": [
    "y=df['Weight']"
   ]
  },
  {
   "cell_type": "code",
   "execution_count": null,
   "id": "a739c9d9",
   "metadata": {},
   "outputs": [],
   "source": [
    "from sklearn.model_selection import train_test_split"
   ]
  },
  {
   "cell_type": "code",
   "execution_count": null,
   "id": "7350fe4a",
   "metadata": {},
   "outputs": [],
   "source": [
    "xtrain,xtest, ytrain,ytest=train_test_split(x,y,test_size=.30)"
   ]
  },
  {
   "cell_type": "markdown",
   "id": "b030d3ff",
   "metadata": {},
   "source": [
    "# Linear Regression"
   ]
  },
  {
   "cell_type": "code",
   "execution_count": null,
   "id": "4caf655d",
   "metadata": {},
   "outputs": [],
   "source": [
    "from sklearn.linear_model import LinearRegression"
   ]
  },
  {
   "cell_type": "code",
   "execution_count": null,
   "id": "3ab9fc26",
   "metadata": {},
   "outputs": [],
   "source": [
    "lg=LinearRegression()"
   ]
  },
  {
   "cell_type": "code",
   "execution_count": null,
   "id": "c365c765",
   "metadata": {},
   "outputs": [],
   "source": [
    "lg.fit(xtrain,ytrain)"
   ]
  },
  {
   "cell_type": "markdown",
   "id": "fe8b3516",
   "metadata": {},
   "source": [
    "# prediction by test data"
   ]
  },
  {
   "cell_type": "code",
   "execution_count": null,
   "id": "9e5ad62f",
   "metadata": {},
   "outputs": [],
   "source": [
    "prediction=lg.predict(xtest)\n",
    "prediction"
   ]
  },
  {
   "cell_type": "markdown",
   "id": "1346168f",
   "metadata": {},
   "source": [
    "# Accuracy"
   ]
  },
  {
   "cell_type": "code",
   "execution_count": null,
   "id": "7c3edffa",
   "metadata": {},
   "outputs": [],
   "source": [
    "from sklearn.metrics import r2_score"
   ]
  },
  {
   "cell_type": "code",
   "execution_count": null,
   "id": "c906b921",
   "metadata": {},
   "outputs": [],
   "source": [
    "r2_score(ytest,prediction)"
   ]
  },
  {
   "cell_type": "markdown",
   "id": "d212bf8f",
   "metadata": {},
   "source": [
    "# MSE"
   ]
  },
  {
   "cell_type": "code",
   "execution_count": null,
   "id": "11d6105c",
   "metadata": {},
   "outputs": [],
   "source": [
    "from sklearn.metrics import mean_squared_error\n"
   ]
  },
  {
   "cell_type": "code",
   "execution_count": null,
   "id": "5abd72a6",
   "metadata": {},
   "outputs": [],
   "source": [
    "mean_squared_error(ytest,prediction)"
   ]
  },
  {
   "cell_type": "markdown",
   "id": "aa8bc4a3",
   "metadata": {},
   "source": [
    "# KNN Regression"
   ]
  },
  {
   "cell_type": "code",
   "execution_count": null,
   "id": "b1ecb2bc",
   "metadata": {},
   "outputs": [],
   "source": [
    "from sklearn.neighbors import KNeighborsRegressor"
   ]
  },
  {
   "cell_type": "code",
   "execution_count": null,
   "id": "d86eef99",
   "metadata": {},
   "outputs": [],
   "source": [
    "kn=KNeighborsRegressor()"
   ]
  },
  {
   "cell_type": "code",
   "execution_count": null,
   "id": "34a873ef",
   "metadata": {},
   "outputs": [],
   "source": [
    "kn.fit(xtrain,ytrain)"
   ]
  },
  {
   "cell_type": "code",
   "execution_count": null,
   "id": "43866796",
   "metadata": {},
   "outputs": [],
   "source": [
    "prediction=kn.predict(xtest)\n",
    "prediction"
   ]
  },
  {
   "cell_type": "markdown",
   "id": "e78d297c",
   "metadata": {},
   "source": [
    "# Accuracy"
   ]
  },
  {
   "cell_type": "code",
   "execution_count": null,
   "id": "d11a9244",
   "metadata": {},
   "outputs": [],
   "source": [
    "from sklearn.metrics import r2_score"
   ]
  },
  {
   "cell_type": "code",
   "execution_count": null,
   "id": "0f80ffca",
   "metadata": {},
   "outputs": [],
   "source": [
    "r2_score(ytest,prediction)"
   ]
  },
  {
   "cell_type": "markdown",
   "id": "628d0b7e",
   "metadata": {},
   "source": [
    "# MSE"
   ]
  },
  {
   "cell_type": "code",
   "execution_count": null,
   "id": "a3abb4f0",
   "metadata": {},
   "outputs": [],
   "source": [
    "from sklearn.metrics import mean_squared_error"
   ]
  },
  {
   "cell_type": "code",
   "execution_count": null,
   "id": "70880cb9",
   "metadata": {},
   "outputs": [],
   "source": [
    "mean_squared_error(ytest,prediction)"
   ]
  },
  {
   "cell_type": "markdown",
   "id": "7a94ddc0",
   "metadata": {},
   "source": [
    "# Random Forest Rehressor"
   ]
  },
  {
   "cell_type": "code",
   "execution_count": null,
   "id": "19d244f3",
   "metadata": {},
   "outputs": [],
   "source": [
    "from sklearn.ensemble._forest import RandomForestRegressor"
   ]
  },
  {
   "cell_type": "code",
   "execution_count": null,
   "id": "d9e9c12e",
   "metadata": {},
   "outputs": [],
   "source": [
    "rfr=RandomForestRegressor()"
   ]
  },
  {
   "cell_type": "code",
   "execution_count": null,
   "id": "b70f4a29",
   "metadata": {},
   "outputs": [],
   "source": [
    "rfr.fit(xtrain,ytrain)"
   ]
  },
  {
   "cell_type": "code",
   "execution_count": null,
   "id": "cfc8460c",
   "metadata": {},
   "outputs": [],
   "source": []
  },
  {
   "cell_type": "code",
   "execution_count": null,
   "id": "dfeb0267",
   "metadata": {},
   "outputs": [],
   "source": [
    "pre_rfr=rfr.predict(xtest)"
   ]
  },
  {
   "cell_type": "markdown",
   "id": "2e40b5e2",
   "metadata": {},
   "source": [
    "# Accuracy"
   ]
  },
  {
   "cell_type": "code",
   "execution_count": null,
   "id": "d71dc998",
   "metadata": {},
   "outputs": [],
   "source": [
    "r2_score(ytest,pre_rfr)"
   ]
  },
  {
   "cell_type": "markdown",
   "id": "0cede944",
   "metadata": {},
   "source": [
    "# MSE"
   ]
  },
  {
   "cell_type": "code",
   "execution_count": null,
   "id": "36a5587d",
   "metadata": {},
   "outputs": [],
   "source": [
    "mean_squared_error(ytest,pre_rfr)"
   ]
  },
  {
   "cell_type": "markdown",
   "id": "a322179a",
   "metadata": {},
   "source": [
    "# TUNING"
   ]
  },
  {
   "cell_type": "code",
   "execution_count": null,
   "id": "c44e7887",
   "metadata": {},
   "outputs": [],
   "source": [
    "import numpy as np"
   ]
  },
  {
   "cell_type": "code",
   "execution_count": null,
   "id": "84977f92",
   "metadata": {},
   "outputs": [],
   "source": [
    "n_estimators = [int(x) for x in np.linspace(5,100,15)]\n",
    "\n",
    "max_features = ['auto', 'sqrt','log2']\n",
    "\n",
    "max_depth = [1,2,3]\n",
    "\n",
    "min_samples_split = [1,2,3]\n",
    "\n",
    "min_samples_leaf = [1,2,3]\n",
    "\n",
    "# Create ids\n",
    "grids = {'n_estimators': n_estimators,\n",
    "               'max_features': max_features,\n",
    "               'max_depth': max_depth,\n",
    "               'min_samples_split': min_samples_split,\n",
    "               'min_samples_leaf': min_samples_leaf}\n",
    "print(grids)"
   ]
  },
  {
   "cell_type": "code",
   "execution_count": null,
   "id": "3a535467",
   "metadata": {},
   "outputs": [],
   "source": [
    "from sklearn.model_selection import RandomizedSearchCV"
   ]
  },
  {
   "cell_type": "code",
   "execution_count": null,
   "id": "0ead5ef2",
   "metadata": {},
   "outputs": [],
   "source": [
    "rfr=RandomForestRegressor()"
   ]
  },
  {
   "cell_type": "code",
   "execution_count": null,
   "id": "4a896fbc",
   "metadata": {},
   "outputs": [],
   "source": [
    "r= RandomizedSearchCV(estimator=rfr,param_distributions=grids,n_iter=100,cv=5)"
   ]
  },
  {
   "cell_type": "code",
   "execution_count": null,
   "id": "a57aa400",
   "metadata": {},
   "outputs": [],
   "source": [
    "r.fit(xtrain,ytrain)"
   ]
  },
  {
   "cell_type": "code",
   "execution_count": null,
   "id": "8c833bf6",
   "metadata": {},
   "outputs": [],
   "source": [
    "pre_r=r.predict(xtest)\n",
    "pre_r"
   ]
  },
  {
   "cell_type": "markdown",
   "id": "836c538d",
   "metadata": {},
   "source": [
    "# Accuracy"
   ]
  },
  {
   "cell_type": "code",
   "execution_count": null,
   "id": "f7326952",
   "metadata": {},
   "outputs": [],
   "source": [
    "r2_score(ytest,pre_r)"
   ]
  },
  {
   "cell_type": "code",
   "execution_count": null,
   "id": "36e2136a",
   "metadata": {},
   "outputs": [],
   "source": [
    "r.best_params_"
   ]
  },
  {
   "cell_type": "markdown",
   "id": "26f1980e",
   "metadata": {},
   "source": [
    "# MSE"
   ]
  },
  {
   "cell_type": "code",
   "execution_count": null,
   "id": "97cfcaf5",
   "metadata": {},
   "outputs": [],
   "source": [
    "mean_squared_error(ytest,pre_r)"
   ]
  },
  {
   "cell_type": "code",
   "execution_count": null,
   "id": "a280c3fc",
   "metadata": {},
   "outputs": [],
   "source": []
  },
  {
   "cell_type": "code",
   "execution_count": null,
   "id": "9dca7df9",
   "metadata": {},
   "outputs": [],
   "source": []
  },
  {
   "cell_type": "markdown",
   "id": "e21950d7",
   "metadata": {},
   "source": [
    "# KNN classifier"
   ]
  },
  {
   "cell_type": "code",
   "execution_count": null,
   "id": "7cf94ff4",
   "metadata": {},
   "outputs": [],
   "source": [
    "df=pd.read_csv('weight-height.csv')\n",
    "df.head()"
   ]
  },
  {
   "cell_type": "code",
   "execution_count": null,
   "id": "646e75ac",
   "metadata": {},
   "outputs": [],
   "source": [
    "df.Gender=le.fit_transform(df.Gender)\n",
    "df.head()"
   ]
  },
  {
   "cell_type": "code",
   "execution_count": null,
   "id": "395c33de",
   "metadata": {},
   "outputs": [],
   "source": [
    "x=df.drop('Gender',axis=1)\n",
    "x"
   ]
  },
  {
   "cell_type": "code",
   "execution_count": null,
   "id": "b7f600af",
   "metadata": {},
   "outputs": [],
   "source": [
    "y=df['Gender']\n",
    "y"
   ]
  },
  {
   "cell_type": "code",
   "execution_count": null,
   "id": "5fea39be",
   "metadata": {},
   "outputs": [],
   "source": [
    "from sklearn.model_selection import train_test_split"
   ]
  },
  {
   "cell_type": "code",
   "execution_count": null,
   "id": "4703edf1",
   "metadata": {},
   "outputs": [],
   "source": [
    "xtrain,xtest, ytrain,ytest=train_test_split(x,y,test_size=.30)"
   ]
  },
  {
   "cell_type": "code",
   "execution_count": null,
   "id": "5609e24a",
   "metadata": {},
   "outputs": [],
   "source": []
  },
  {
   "cell_type": "code",
   "execution_count": null,
   "id": "e7318f3f",
   "metadata": {},
   "outputs": [],
   "source": []
  },
  {
   "cell_type": "code",
   "execution_count": null,
   "id": "3e290259",
   "metadata": {},
   "outputs": [],
   "source": [
    "from sklearn.neighbors import KNeighborsClassifier"
   ]
  },
  {
   "cell_type": "code",
   "execution_count": null,
   "id": "2879f83c",
   "metadata": {},
   "outputs": [],
   "source": [
    "knc=KNeighborsClassifier()"
   ]
  },
  {
   "cell_type": "code",
   "execution_count": null,
   "id": "74636cf3",
   "metadata": {},
   "outputs": [],
   "source": [
    "knc.fit(xtrain,ytrain)"
   ]
  },
  {
   "cell_type": "code",
   "execution_count": null,
   "id": "0ec9a98e",
   "metadata": {},
   "outputs": [],
   "source": [
    "kn_predict=knc.predict(xtest)\n",
    "kn_predict"
   ]
  },
  {
   "cell_type": "markdown",
   "id": "d43e8100",
   "metadata": {},
   "source": [
    "# Accuracy"
   ]
  },
  {
   "cell_type": "code",
   "execution_count": null,
   "id": "fdb21a26",
   "metadata": {},
   "outputs": [],
   "source": [
    "from sklearn.metrics import accuracy_score,confusion_matrix,classification_report,roc_curve,auc"
   ]
  },
  {
   "cell_type": "code",
   "execution_count": null,
   "id": "c1e4fcc5",
   "metadata": {},
   "outputs": [],
   "source": [
    "accuracy_score(ytest,kn_predict)"
   ]
  },
  {
   "cell_type": "code",
   "execution_count": null,
   "id": "9272dfb3",
   "metadata": {},
   "outputs": [],
   "source": [
    "confusion_matrix(ytest,kn_predict)"
   ]
  },
  {
   "cell_type": "code",
   "execution_count": null,
   "id": "4137aed6",
   "metadata": {},
   "outputs": [],
   "source": [
    "print(classification_report(ytest,kn_predict))"
   ]
  },
  {
   "cell_type": "code",
   "execution_count": null,
   "id": "c7f4cf50",
   "metadata": {},
   "outputs": [],
   "source": [
    "roc_curve(ytest,kn_predict)"
   ]
  },
  {
   "cell_type": "code",
   "execution_count": null,
   "id": "eac29080",
   "metadata": {},
   "outputs": [],
   "source": [
    "xtest_Height = xtest.Height\n",
    "xtest_weight = xtest.Weight"
   ]
  },
  {
   "cell_type": "code",
   "execution_count": null,
   "id": "72f11f3d",
   "metadata": {},
   "outputs": [],
   "source": [
    "xtest_Height =sorted(xtest_Height)"
   ]
  },
  {
   "cell_type": "code",
   "execution_count": null,
   "id": "44f9957e",
   "metadata": {},
   "outputs": [],
   "source": [
    "auc(xtest_Height ,kn_predict)"
   ]
  },
  {
   "cell_type": "markdown",
   "id": "198e4afe",
   "metadata": {},
   "source": [
    "# Tuning"
   ]
  },
  {
   "cell_type": "code",
   "execution_count": null,
   "id": "9a75a0ed",
   "metadata": {},
   "outputs": [],
   "source": [
    "from sklearn.ensemble._forest import RandomForestClassifier\n"
   ]
  },
  {
   "cell_type": "code",
   "execution_count": null,
   "id": "e52301e1",
   "metadata": {},
   "outputs": [],
   "source": [
    "rfc=RandomForestClassifier()"
   ]
  },
  {
   "cell_type": "code",
   "execution_count": null,
   "id": "5cd87e36",
   "metadata": {},
   "outputs": [],
   "source": [
    "ra= RandomizedSearchCV(estimator=rfc,param_distributions=grids,n_iter=100,cv=5)"
   ]
  },
  {
   "cell_type": "code",
   "execution_count": null,
   "id": "08b6916d",
   "metadata": {},
   "outputs": [],
   "source": [
    "ra.fit(xtrain,ytrain)"
   ]
  },
  {
   "cell_type": "code",
   "execution_count": null,
   "id": "d057538c",
   "metadata": {},
   "outputs": [],
   "source": [
    "rfc_prediction=ra.predict(xtest)\n",
    "rfc_prediction"
   ]
  },
  {
   "cell_type": "code",
   "execution_count": null,
   "id": "c034eb7a",
   "metadata": {},
   "outputs": [],
   "source": [
    "accuracy_score(ytest,rfc_prediction)\n"
   ]
  },
  {
   "cell_type": "code",
   "execution_count": null,
   "id": "855d31e7",
   "metadata": {},
   "outputs": [],
   "source": [
    "print(classification_report(ytest,kn_predict))"
   ]
  },
  {
   "cell_type": "code",
   "execution_count": null,
   "id": "a29daf92",
   "metadata": {},
   "outputs": [],
   "source": [
    "confusion_matrix(ytest,kn_predict)"
   ]
  },
  {
   "cell_type": "code",
   "execution_count": null,
   "id": "52912c45",
   "metadata": {},
   "outputs": [],
   "source": [
    "roc_curve(ytest,rfc_prediction)"
   ]
  },
  {
   "cell_type": "code",
   "execution_count": null,
   "id": "4440243c",
   "metadata": {},
   "outputs": [],
   "source": [
    "auc(xtest_Height ,rfc_prediction)"
   ]
  },
  {
   "cell_type": "code",
   "execution_count": null,
   "id": "545e8b40",
   "metadata": {},
   "outputs": [],
   "source": []
  },
  {
   "cell_type": "code",
   "execution_count": null,
   "id": "4bba22ef",
   "metadata": {},
   "outputs": [],
   "source": []
  }
 ],
 "metadata": {
  "kernelspec": {
   "display_name": "Python 3",
   "language": "python",
   "name": "python3"
  },
  "language_info": {
   "codemirror_mode": {
    "name": "ipython",
    "version": 3
   },
   "file_extension": ".py",
   "mimetype": "text/x-python",
   "name": "python",
   "nbconvert_exporter": "python",
   "pygments_lexer": "ipython3",
   "version": "3.8.8"
  }
 },
 "nbformat": 4,
 "nbformat_minor": 5
}
